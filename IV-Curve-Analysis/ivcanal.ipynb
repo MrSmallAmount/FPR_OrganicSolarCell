{
 "cells": [
  {
   "cell_type": "code",
   "execution_count": 1,
   "metadata": {},
   "outputs": [],
   "source": [
    "import numpy as np\n",
    "import matplotlib.pyplot as plt\n",
    "import os"
   ]
  },
  {
   "cell_type": "code",
   "execution_count": 6,
   "metadata": {},
   "outputs": [
    {
     "name": "stdout",
     "output_type": "stream",
     "text": [
      "['../OSC-measuresments/OSC1/', '../OSC-measuresments/OSC2/', '../OSC-measuresments/OSC3/', '../OSC-measuresments/OSC4/', '../OSC-measuresments/OSC5/', '../OSC-measuresments/PatrickOSC/', '../OSC-measuresments/ReraSC/']\n"
     ]
    }
   ],
   "source": [
    "maindatapath = \"../OSC-measuresments/\"\n",
    "\n",
    "oscpaths = [maindatapath + osc +\"/\" for osc in  os.listdir(maindatapath) if osc[-4:]!=\".jpg\"] # the paths to the folders of the samples\n",
    "\n",
    "cellpaths = lambda osc : [ oscpaths[osc] + cell + \"/\" for cell in os.listdir(oscpaths[osc]) ]\n",
    "\n",
    "measurementpaths = lambda osc, cell : [cellpaths(osc)[cell] + measurement for measurement in os.listdir(cellpaths(osc)[cell])]\n",
    "\n",
    "measurement = lambda osc,cell,mm : np.loadtxt(measurementpaths(osc,cell)[mm], skiprows=1).T\n",
    "\n",
    "print(oscpaths)"
   ]
  },
  {
   "cell_type": "code",
   "execution_count": 7,
   "metadata": {},
   "outputs": [
    {
     "data": {
      "text/plain": [
       "(2, 201)"
      ]
     },
     "execution_count": 7,
     "metadata": {},
     "output_type": "execute_result"
    }
   ],
   "source": [
    "#measurementrelevant = lambda osc, cell, mm : np.where(measurement(osc,cell,mm)*np.array([[1],[-1]])>0,measurement(osc,cell,mm),0)\n",
    "measurementrelevant = lambda osc, cell, mm : np.where(measurement(osc,cell,mm)*np.array([[1],[-1]])>0,measurement(osc,cell,mm),0)\n",
    "measurementrelevant(0,0,0).shape"
   ]
  },
  {
   "cell_type": "code",
   "execution_count": 36,
   "metadata": {},
   "outputs": [
    {
     "data": {
      "text/plain": [
       "(-8.931019768108607e-05, 0.42458230262617314, [40, 41], [124, 125])"
      ]
     },
     "execution_count": 36,
     "metadata": {},
     "output_type": "execute_result"
    }
   ],
   "source": [
    "def interpolate(mat, witherrors=False):\n",
    "    x1,x2 = mat[0]\n",
    "    y1,y2 = mat[1]\n",
    "    x0 = (y1*x2-y2*x1)/(y1-y2)\n",
    "    return x0\n",
    "\n",
    "\n",
    "def find_zeros(mm):\n",
    "    V = mm[0]\n",
    "    I = mm[1]\n",
    "    iscindeces = [np.where(V<0)[0][-1],np.where(V>0)[0][0]]\n",
    "    vocindeces = [np.where(I<0)[0][-1],np.where(I>0)[0][0]]\n",
    "    isc = interpolate(np.array([[0,1],[1,0]])@mm[:,iscindeces]) # the matrix mult is to swap the voltage and current\n",
    "    voc = interpolate(mm[:,vocindeces])\n",
    "    return isc, voc, iscindeces, vocindeces\n",
    "\n",
    "def power_curve(mmr):\n",
    "    V,I = mmr\n",
    "    P = V*np.abs(I)\n",
    "    return P\n",
    "\n",
    "measurement1 = measurement(0,0,1)\n",
    "\n",
    "#measurement1[:,find_zeros(measurement1)[1]]\n",
    "\n",
    "find_zeros(measurement1)"
   ]
  },
  {
   "cell_type": "code",
   "execution_count": 37,
   "metadata": {},
   "outputs": [
    {
     "data": {
      "text/plain": [
       "[<matplotlib.lines.Line2D at 0x24ad41d52e0>]"
      ]
     },
     "execution_count": 37,
     "metadata": {},
     "output_type": "execute_result"
    },
    {
     "data": {
      "image/png": "[encoded data removed]",
      "text/plain": [
       "<Figure size 432x288 with 1 Axes>"
      ]
     },
     "metadata": {
      "needs_background": "light"
     },
     "output_type": "display_data"
    }
   ],
   "source": [
    "mr1 = measurementrelevant(0,0,1)\n",
    "power1 = power_curve(mr1)\n",
    "plt.plot(mr1[0],power1)"
   ]
  },
  {
   "cell_type": "code",
   "execution_count": 17,
   "metadata": {},
   "outputs": [
    {
     "data": {
      "text/plain": [
       "array([[3, 4],\n",
       "       [1, 2]])"
      ]
     },
     "execution_count": 17,
     "metadata": {},
     "output_type": "execute_result"
    }
   ],
   "source": []
  },
  {
   "cell_type": "code",
   "execution_count": null,
   "metadata": {},
   "outputs": [],
   "source": []
  }
 ],
 "metadata": {
  "kernelspec": {
   "display_name": "Python 3.9.0 64-bit",
   "language": "python",
   "name": "python3"
  },
  "language_info": {
   "codemirror_mode": {
    "name": "ipython",
    "version": 3
   },
   "file_extension": ".py",
   "mimetype": "text/x-python",
   "name": "python",
   "nbconvert_exporter": "python",
   "pygments_lexer": "ipython3",
   "version": "3.9.0"
  },
  "orig_nbformat": 4,
  "vscode": {
   "interpreter": {
    "hash": "0f824b7509710b150eeb153a16fba7876ab51daf7c037ecc0c7ff6eceb14043c"
   }
  }
 },
 "nbformat": 4,
 "nbformat_minor": 2
}
