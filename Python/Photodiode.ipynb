{
 "cells": [
  {
   "cell_type": "code",
   "execution_count": 1,
   "metadata": {},
   "outputs": [],
   "source": [
    "import matplotlib.pyplot as plt\n",
    "import matplotlib as mpl\n",
    "import numpy as np\n",
    "\n",
    "plt.rcParams.update({\n",
    "    \"figure.autolayout\": True,\n",
    "    \"text.usetex\": True,\n",
    "    \"font.family\": \"serif\"})\n",
    "\n",
    "mpl.rc(\"xtick\", labelsize=14)\n",
    "mpl.rc(\"ytick\", labelsize=14)"
   ]
  },
  {
   "cell_type": "code",
   "execution_count": 2,
   "metadata": {},
   "outputs": [],
   "source": [
    "Pp = np.array([82.0,72.0,39.0,22.0,13.0,8.0])  #mW\n",
    "uPp = 1.0                                      #mW\n",
    "\n",
    "A = 77.0 #mW/mm^2\n",
    "uA = 8.  #mW/mm^2\n",
    "\n",
    "filters = np.arange(6)"
   ]
  },
  {
   "cell_type": "code",
   "execution_count": 6,
   "metadata": {},
   "outputs": [
    {
     "name": "stdout",
     "output_type": "stream",
     "text": [
      "[[1.06493506 0.11140219]\n",
      " [0.93506494 0.09801382]\n",
      " [0.50649351 0.05420158]\n",
      " [0.28571429 0.0324012 ]\n",
      " [0.16883117 0.02182535]\n",
      " [0.1038961  0.01688732]]\n"
     ]
    }
   ],
   "source": [
    "def SanduS(P,uP,A,uA):\n",
    "    S = P/A\n",
    "\n",
    "    uS = np.sqrt( (P/A**2)**2 * uA**2 + (1/A)**2 * uP**2)\n",
    "\n",
    "    return S,uS\n",
    "\n",
    "S,uS = SanduS(Pp,uPp,A,uA)\n",
    "print(np.array([S,uS]).T)\n"
   ]
  },
  {
   "cell_type": "code",
   "execution_count": 4,
   "metadata": {},
   "outputs": [
    {
     "data": {
      "image/png": "[encoded data removed]",
      "text/plain": [
       "<Figure size 504x288 with 1 Axes>"
      ]
     },
     "metadata": {
      "needs_background": "light"
     },
     "output_type": "display_data"
    }
   ],
   "source": [
    "plt.figure(figsize=(7,4))\n",
    "plt.errorbar(filters,S,yerr=uS,fmt=\"xb\",ms=6,markeredgewidth=0.2,capsize=2,capthick=0.5,elinewidth=0.9)\n",
    "plt.xlabel(r\"Filters $i$\",fontsize=20)\n",
    "plt.ylabel(r\"Irradiance $S$ [$\\mathrm{mW}\\!\\cdot\\mathrm{mm}^{-2}$]\",fontsize=20)\n",
    "\n",
    "plt.savefig(\"Photodiode_irradiance.pdf\",format=\"pdf\")"
   ]
  },
  {
   "cell_type": "code",
   "execution_count": null,
   "metadata": {},
   "outputs": [],
   "source": []
  }
 ],
 "metadata": {
  "kernelspec": {
   "display_name": "Python 3.9.0 64-bit",
   "language": "python",
   "name": "python3"
  },
  "language_info": {
   "codemirror_mode": {
    "name": "ipython",
    "version": 3
   },
   "file_extension": ".py",
   "mimetype": "text/x-python",
   "name": "python",
   "nbconvert_exporter": "python",
   "pygments_lexer": "ipython3",
   "version": "3.9.0"
  },
  "orig_nbformat": 4,
  "vscode": {
   "interpreter": {
    "hash": "0f824b7509710b150eeb153a16fba7876ab51daf7c037ecc0c7ff6eceb14043c"
   }
  }
 },
 "nbformat": 4,
 "nbformat_minor": 2
}
