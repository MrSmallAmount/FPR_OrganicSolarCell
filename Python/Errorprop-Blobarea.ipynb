{
 "cells": [
  {
   "cell_type": "markdown",
   "metadata": {},
   "source": [
    "# Error propagation and calculator of Blobarea\n",
    "\n",
    "---"
   ]
  },
  {
   "cell_type": "code",
   "execution_count": 15,
   "metadata": {},
   "outputs": [],
   "source": [
    "import numpy as np\n",
    "import metrolopy as uc"
   ]
  },
  {
   "cell_type": "markdown",
   "metadata": {},
   "source": [
    "### Function for the area and error propagation\n",
    "\n",
    "---"
   ]
  },
  {
   "cell_type": "code",
   "execution_count": 16,
   "metadata": {},
   "outputs": [],
   "source": [
    "#EVERYTHING IN MILLIMETERS\n",
    "\n",
    "def A(w,d):\n",
    "    return 1/2 * ( d**2 * np.arcsin(w/d) + w*np.sqrt(d**2 - w**2) )\n",
    "\n",
    "\n",
    "def uA(w,uw,d,ud):\n",
    "    return np.sqrt( d**2 * np.arcsin(w/d)**2 * ud**2 + (d**2 - w**2)*uw**2)"
   ]
  },
  {
   "cell_type": "markdown",
   "metadata": {},
   "source": [
    "## Width $w$ that is given by SOURCE6-labdesc page 12\n",
    "\n",
    "Added the uncertainty of a Messschieber\n",
    "\n",
    "$$ w = (1600 \\pm 50) \\;\\mu m$$"
   ]
  },
  {
   "cell_type": "code",
   "execution_count": 17,
   "metadata": {},
   "outputs": [],
   "source": [
    "w = 1.6\n",
    "uw = 0.05\n",
    "\n",
    "\n",
    "def printtogether(OSCnumber,cellnumber,d,ud,w=w,uw=uw):\n",
    "    return print(f\"Blobarea OSC{OSCnumber}-cell{cellnumber} is A= ({A(w,d)} +- {uA(w,uw,d,ud)})\")"
   ]
  },
  {
   "cell_type": "markdown",
   "metadata": {},
   "source": [
    "## OSC5\n",
    "---"
   ]
  },
  {
   "cell_type": "code",
   "execution_count": 18,
   "metadata": {},
   "outputs": [
    {
     "name": "stdout",
     "output_type": "stream",
     "text": [
      "Blobarea OSC5-cell1 is A= (79.18620659205573 +- 2.5551844803038914)\n",
      "[79.18620659205573, 2.5551844803038914] \n",
      "\n",
      "Blobarea OSC5-cell2 is A= (83.50692025087656 +- 2.6861549355950944)\n",
      "[83.50692025087656, 2.6861549355950944] \n",
      "\n",
      "Blobarea OSC5-cell3 is A= (64.30301420466873 +- 2.107965006349283)\n",
      "[64.30301420466873, 2.107965006349283] \n",
      "\n",
      "Blobarea OSC5-cell4 is A= (59.98179058129378 +- 1.9796650709022352)\n",
      "[59.98179058129378, 1.9796650709022352] \n",
      "\n",
      "Blobarea OSC5-cell5 is A= (64.94318163083341 +- 2.1270430696405636)\n",
      "[64.94318163083341, 2.1270430696405636] \n",
      "\n"
     ]
    }
   ],
   "source": [
    "#Cell1\n",
    "#===================================\n",
    "d51 = 49.5\n",
    "ud51 = 0.4\n",
    "printtogether(5,1,d51,ud51)\n",
    "\n",
    "A_5_1 = [ A(w,d51), uA(w,uw,d51,ud51)]\n",
    "print(A_5_1,\"\\n\")\n",
    "#===================================\n",
    "\n",
    "#Cell2\n",
    "#===================================\n",
    "d52 = 52.2\n",
    "ud52 = 0.4\n",
    "printtogether(5,2,d52,ud52)\n",
    "\n",
    "A_5_2 = [ A(w,d52), uA(w,uw,d52,ud52)]\n",
    "print(A_5_2,\"\\n\")\n",
    "#===================================\n",
    "\n",
    "#Cell3\n",
    "#===================================\n",
    "d53 = 40.2\n",
    "ud53 = 0.4\n",
    "printtogether(5,3,d53,ud53)\n",
    "\n",
    "A_5_3 = [ A(w,d53), uA(w,uw,d53,ud53)]\n",
    "print(A_5_3,\"\\n\")\n",
    "#===================================\n",
    "\n",
    "#Cell4\n",
    "#===================================\n",
    "d54 = 37.5\n",
    "ud54 = 0.4\n",
    "printtogether(5,4,d54,ud54)\n",
    "\n",
    "A_5_4 = [ A(w,d54), uA(w,uw,d54,ud54)]\n",
    "print(A_5_4,\"\\n\")\n",
    "#===================================\n",
    "\n",
    "#Cell5\n",
    "#===================================\n",
    "d55 = 40.6\n",
    "ud55 = 0.4\n",
    "printtogether(5,5,d55,ud55)\n",
    "\n",
    "A_5_5 = [ A(w,d55), uA(w,uw,d55,ud55)]\n",
    "print(A_5_5,\"\\n\")\n",
    "#==================================="
   ]
  },
  {
   "cell_type": "code",
   "execution_count": 19,
   "metadata": {},
   "outputs": [
    {
     "name": "stdout",
     "output_type": "stream",
     "text": [
      "0.03232\n",
      "0.03065\n",
      "0.0398\n",
      "0.04267\n",
      "0.03941\n"
     ]
    }
   ],
   "source": [
    "cool = np.array([A_5_1,A_5_2,A_5_3,A_5_4,A_5_5])\n",
    "cool2 = np.array([[d51,ud51],[d52,ud52],[d53,ud53],[d54,ud54],[d55,ud55]])\n",
    "\n",
    "\n",
    "for i in cool2:\n",
    "    print(np.round(w/i[0],5))"
   ]
  },
  {
   "cell_type": "markdown",
   "metadata": {},
   "source": [
    "## OSC3\n",
    "---"
   ]
  },
  {
   "cell_type": "code",
   "execution_count": 20,
   "metadata": {},
   "outputs": [
    {
     "name": "stdout",
     "output_type": "stream",
     "text": [
      "Blobarea OSC3-cell2 is A= (58.381291409049226 +- 1.9911392100260337)\n",
      "[58.381291409049226, 1.9911392100260337] \n",
      "\n",
      "Blobarea OSC3-cell3 is A= (63.18271304356203 +- 2.1294542343052365)\n",
      "[63.18271304356203, 2.1294542343052365] \n",
      "\n",
      "Blobarea OSC3-cell4 is A= (59.18154437079939 +- 2.0140753032092644)\n",
      "[59.18154437079939, 2.0140753032092644] \n",
      "\n",
      "Blobarea OSC3-cell5 is A= (59.18154437079939 +- 2.0140753032092644)\n",
      "[59.18154437079939, 2.0140753032092644] \n",
      "\n"
     ]
    }
   ],
   "source": [
    "#Cell2\n",
    "#===================================\n",
    "d32 = 36.5\n",
    "ud32 = 0.5\n",
    "printtogether(3,2,d32,ud32)\n",
    "\n",
    "A_3_2 = [ A(w,d32), uA(w,uw,d32,ud32)]\n",
    "print(A_3_2,\"\\n\")\n",
    "#===================================\n",
    "\n",
    "#Cell3\n",
    "#===================================\n",
    "d33 = 39.5\n",
    "ud33 = 0.5\n",
    "printtogether(3,3,d33,ud33)\n",
    "\n",
    "A_3_3 = [ A(w,d33), uA(w,uw,d33,ud33)]\n",
    "print(A_3_3,\"\\n\")\n",
    "#===================================\n",
    "\n",
    "#Cell4\n",
    "#===================================\n",
    "d34 = 37.0\n",
    "ud34 = 0.5\n",
    "printtogether(3,4,d34,ud34)\n",
    "\n",
    "A_3_4 = [ A(w,d34), uA(w,uw,d34,ud34)]\n",
    "print(A_3_4,\"\\n\")\n",
    "#===================================\n",
    "\n",
    "#Cell5\n",
    "#===================================\n",
    "d35 = 37.0\n",
    "ud35 = 0.5\n",
    "printtogether(3,5,d35,ud35)\n",
    "\n",
    "A_3_5 = [ A(w,d35), uA(w,uw,d35,ud35)]\n",
    "print(A_3_5,\"\\n\")\n",
    "#===================================\n"
   ]
  },
  {
   "cell_type": "code",
   "execution_count": 27,
   "metadata": {},
   "outputs": [
    {
     "name": "stdout",
     "output_type": "stream",
     "text": [
      "0.03411\n",
      "0.0337\n",
      "0.03403\n",
      "0.03403\n",
      "0.033968298464789964\n"
     ]
    }
   ],
   "source": [
    "cool = np.array([A_3_2,A_3_3,A_3_4,A_3_5])\n",
    "cool2 = np.array([[d32,ud32],[d33,ud33],[d34,ud34],[d35,ud35]])\n",
    "\n",
    "k=0.\n",
    "for i in cool:\n",
    "    k += i[1]/i[0]\n",
    "    print(np.round(i[1]/i[0],5))\n",
    "\n",
    "k = k/len(cool)\n",
    "print(k)"
   ]
  },
  {
   "cell_type": "markdown",
   "metadata": {},
   "source": [
    "## OSC1\n",
    "---"
   ]
  },
  {
   "cell_type": "code",
   "execution_count": 22,
   "metadata": {},
   "outputs": [
    {
     "name": "stdout",
     "output_type": "stream",
     "text": [
      "Blobarea OSC1-cell1 is A= (59.98179058129378 +- 2.037060072502754)\n",
      "[59.98179058129378, 2.037060072502754] \n",
      "\n",
      "Blobarea OSC1-cell2 is A= (63.18271304356203 +- 2.1294542343052365)\n",
      "[63.18271304356203, 2.1294542343052365] \n",
      "\n"
     ]
    }
   ],
   "source": [
    "#Cell1\n",
    "#===================================\n",
    "d11 = 37.5\n",
    "ud11 = 0.5\n",
    "printtogether(1,1,d11,ud11)\n",
    "\n",
    "A_1_1 = [ A(w,d11), uA(w,uw,d11,ud11)]\n",
    "print(A_1_1,\"\\n\")\n",
    "#===================================\n",
    "\n",
    "#Cell2\n",
    "#===================================\n",
    "d12 = 39.5\n",
    "ud12 = 0.5\n",
    "printtogether(1,2,d12,ud12)\n",
    "\n",
    "A_1_2 = [ A(w,d12), uA(w,uw,d12,ud12)]\n",
    "print(A_1_2,\"\\n\")\n",
    "#==================================="
   ]
  }
 ],
 "metadata": {
  "kernelspec": {
   "display_name": "Python 3.9.0 64-bit",
   "language": "python",
   "name": "python3"
  },
  "language_info": {
   "codemirror_mode": {
    "name": "ipython",
    "version": 3
   },
   "file_extension": ".py",
   "mimetype": "text/x-python",
   "name": "python",
   "nbconvert_exporter": "python",
   "pygments_lexer": "ipython3",
   "version": "3.9.0"
  },
  "orig_nbformat": 4,
  "vscode": {
   "interpreter": {
    "hash": "0f824b7509710b150eeb153a16fba7876ab51daf7c037ecc0c7ff6eceb14043c"
   }
  }
 },
 "nbformat": 4,
 "nbformat_minor": 2
}
