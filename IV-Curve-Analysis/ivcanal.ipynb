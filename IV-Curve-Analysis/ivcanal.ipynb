{
 "cells": [
  {
   "cell_type": "code",
   "execution_count": 4,
   "metadata": {},
   "outputs": [],
   "source": [
    "import numpy as np\n",
    "import matplotlib.pyplot as plt\n",
    "import os"
   ]
  },
  {
   "cell_type": "code",
   "execution_count": 23,
   "metadata": {},
   "outputs": [],
   "source": [
    "maindatapath = \"../OSC-measuresments/\"\n",
    "\n",
    "oscpaths = [maindatapath + osc +\"/\" for osc in  os.listdir(maindatapath)] # the paths to the folders of the samples\n",
    "\n",
    "cellpaths = lambda osc : [ oscpaths[osc] + cell + \"/\" for cell in os.listdir(oscpaths[osc]) ]\n",
    "\n",
    "measurementpaths = lambda osc, cell : [cellpaths(osc)[cell] + measurement for measurement in os.listdir(cellpaths(osc)[cell])]\n",
    "\n",
    "measurement = lambda osc,cell,mm : np.loadtxt(measurementpaths(osc,cell)[mm], skiprows=1).T"
   ]
  },
  {
   "cell_type": "code",
   "execution_count": 37,
   "metadata": {},
   "outputs": [
    {
     "data": {
      "text/plain": [
       "(2, 201)"
      ]
     },
     "execution_count": 37,
     "metadata": {},
     "output_type": "execute_result"
    }
   ],
   "source": [
    "measurementrelevant = lambda osc, cell, mm : np.where(measurement(osc,cell,mm)*np.array([[1],[-1]])>0,measurement(osc,cell,mm),0)\n",
    "measurementrelevant(0,0,0).shape"
   ]
  },
  {
   "cell_type": "code",
   "execution_count": 56,
   "metadata": {},
   "outputs": [
    {
     "data": {
      "text/plain": [
       "array([[-1.490116e-08,  4.999995e-03],\n",
       "       [ 2.405870e-09,  2.413700e-07]])"
      ]
     },
     "execution_count": 56,
     "metadata": {},
     "output_type": "execute_result"
    }
   ],
   "source": [
    "def interpolate(mat):\n",
    "    x1,x2 = mat[0]\n",
    "    y1,y2 = mat[1]\n",
    "    x0 = (y1*x2-y2*x1)/(y1-y2)\n",
    "    xerror = lambda \n",
    "\n",
    "\n",
    "def find_zeros(mm):\n",
    "    mm = mm\n",
    "    iscindeces = [np.where(mm[0]<0)[0][-1],np.where(mm[0]>0)[0][0]]\n",
    "    return iscindeces\n",
    "\n",
    "measurement1 = measurement(0,0,0)\n",
    "\n",
    "measurement1[:,find_zeros(measurement1)]\n"
   ]
  }
 ],
 "metadata": {
  "kernelspec": {
   "display_name": "Python 3.9.0 64-bit",
   "language": "python",
   "name": "python3"
  },
  "language_info": {
   "codemirror_mode": {
    "name": "ipython",
    "version": 3
   },
   "file_extension": ".py",
   "mimetype": "text/x-python",
   "name": "python",
   "nbconvert_exporter": "python",
   "pygments_lexer": "ipython3",
   "version": "3.9.0"
  },
  "orig_nbformat": 4,
  "vscode": {
   "interpreter": {
    "hash": "0f824b7509710b150eeb153a16fba7876ab51daf7c037ecc0c7ff6eceb14043c"
   }
  }
 },
 "nbformat": 4,
 "nbformat_minor": 2
}
