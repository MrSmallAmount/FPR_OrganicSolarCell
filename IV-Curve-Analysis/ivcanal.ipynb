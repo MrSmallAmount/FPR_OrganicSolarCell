{
 "cells": [
  {
   "cell_type": "code",
   "execution_count": 1,
   "metadata": {},
   "outputs": [],
   "source": [
    "import numpy as np\n",
    "import matplotlib.pyplot as plt\n",
    "import os"
   ]
  },
  {
   "cell_type": "markdown",
   "metadata": {},
   "source": [
    "## Pathing"
   ]
  },
  {
   "cell_type": "code",
   "execution_count": 2,
   "metadata": {},
   "outputs": [
    {
     "name": "stdout",
     "output_type": "stream",
     "text": [
      "(2, 201)\n"
     ]
    }
   ],
   "source": [
    "maindatapath = \"../OSC-measuresments/\"\n",
    "\n",
    "oscpaths = [maindatapath + osc +\"/\" for osc in  os.listdir(maindatapath) if osc[-4:]!=\".jpg\"] # the paths to the folders of the samples\n",
    "\n",
    "cellpaths = lambda osc : [ oscpaths[osc] + cell + \"/\" for cell in os.listdir(oscpaths[osc]) ]\n",
    "\n",
    "measurementpaths = lambda osc, cell : [cellpaths(osc)[cell] + measurement for measurement in os.listdir(cellpaths(osc)[cell])]\n",
    "\n",
    "measurement = lambda osc,cell,mm : np.loadtxt(measurementpaths(osc,cell)[mm], skiprows=1).T\n",
    "\n",
    "print(measurement(0,0,0).shape)"
   ]
  },
  {
   "cell_type": "code",
   "execution_count": 24,
   "metadata": {},
   "outputs": [
    {
     "name": "stdout",
     "output_type": "stream",
     "text": [
      "0: ../OSC-measuresments/OSC1/\n",
      "1: ../OSC-measuresments/OSC2/\n",
      "2: ../OSC-measuresments/OSC3/\n",
      "3: ../OSC-measuresments/OSC4/\n",
      "4: ../OSC-measuresments/OSC5/\n",
      "5: ../OSC-measuresments/PatrickOSC/\n",
      "6: ../OSC-measuresments/ReraSC/\n"
     ]
    }
   ],
   "source": [
    "for i in range(len(oscpaths)):\n",
    "    print(str(i) + \": \"+oscpaths[i])"
   ]
  },
  {
   "cell_type": "markdown",
   "metadata": {},
   "source": [
    "## Cutting down Measurements to 4th quadrant"
   ]
  },
  {
   "cell_type": "code",
   "execution_count": 3,
   "metadata": {},
   "outputs": [
    {
     "data": {
      "text/plain": [
       "[<matplotlib.lines.Line2D at 0x1d0b0595be0>]"
      ]
     },
     "execution_count": 3,
     "metadata": {},
     "output_type": "execute_result"
    },
    {
     "data": {
      "image/png": "[encoded data removed]",
      "text/plain": [
       "<Figure size 432x288 with 1 Axes>"
      ]
     },
     "metadata": {
      "needs_background": "light"
     },
     "output_type": "display_data"
    }
   ],
   "source": [
    "#measurementrelevant = lambda osc, cell, mm : np.where(measurement(osc,cell,mm)*np.array([[1],[-1]])>0,measurement(osc,cell,mm),0)\n",
    "measurementrelevant = lambda osc, cell, mm : measurement(osc,cell,mm)[ : ,  np.where( np.all ( measurement(osc,cell,mm)*np.array([[1],[-1]])>0 , axis =(0)))[0] ] \n",
    "    # ^ slices the array down to all the pairs where the voltage is positive and the current is negative\n",
    "mmr1 = measurementrelevant(0,0,2)\n",
    "plt.plot(mmr1[0],mmr1[1])"
   ]
  },
  {
   "cell_type": "markdown",
   "metadata": {},
   "source": [
    "## Interpolation"
   ]
  },
  {
   "cell_type": "code",
   "execution_count": 5,
   "metadata": {},
   "outputs": [
    {
     "data": {
      "text/plain": [
       "(-8.931019768108607e-05, 0.42458230262617314, [40, 41], [124, 125])"
      ]
     },
     "execution_count": 5,
     "metadata": {},
     "output_type": "execute_result"
    }
   ],
   "source": [
    "def interpolate(mat, witherrors=False):\n",
    "    x1,x2 = mat[0]\n",
    "    y1,y2 = mat[1]\n",
    "    x0 = (y1*x2-y2*x1)/(y1-y2)\n",
    "    return x0\n",
    "\n",
    "\n",
    "def find_zeros(mm):\n",
    "    V = mm[0]\n",
    "    I = mm[1]\n",
    "    iscindeces = [np.where(V<0)[0][-1],np.where(V>0)[0][0]]\n",
    "    vocindeces = [np.where(I<0)[0][-1],np.where(I>0)[0][0]]\n",
    "    isc = interpolate(np.array([[0,1],[1,0]])@mm[:,iscindeces]) # the matrix mult is to swap the voltage and current\n",
    "    voc = interpolate(mm[:,vocindeces])\n",
    "    return isc, voc, iscindeces, vocindeces\n",
    "\n",
    "def power_curve(mmr):\n",
    "    V,I = mmr\n",
    "    P = V*np.abs(I)\n",
    "    return P\n",
    "\n",
    "measurement1 = measurement(0,0,1)\n",
    "\n",
    "#print(measurement1[:,np.where(np.all(measurement1*np.array([[1],[-1]])>0,axis=(0)))[0]])\n",
    "\n",
    "#measurement1[:,find_zeros(measurement1)[1]]\n",
    "\n",
    "find_zeros(measurement1)"
   ]
  },
  {
   "cell_type": "code",
   "execution_count": 6,
   "metadata": {},
   "outputs": [
    {
     "data": {
      "text/plain": [
       "[<matplotlib.lines.Line2D at 0x25b4dcba310>]"
      ]
     },
     "execution_count": 6,
     "metadata": {},
     "output_type": "execute_result"
    },
    {
     "data": {
      "image/png": "[encoded data removed]",
      "text/plain": [
       "<Figure size 432x288 with 1 Axes>"
      ]
     },
     "metadata": {
      "needs_background": "light"
     },
     "output_type": "display_data"
    }
   ],
   "source": [
    "mr1 = measurementrelevant(0,0,1)\n",
    "power1 = power_curve(mr1)\n",
    "plt.plot(mr1[0],power1)"
   ]
  },
  {
   "cell_type": "markdown",
   "metadata": {},
   "source": [
    "### Average Ratio between uncertainty in Area and Area"
   ]
  },
  {
   "cell_type": "code",
   "execution_count": 29,
   "metadata": {},
   "outputs": [
    {
     "data": {
      "text/plain": [
       "[0.033832211493689125, 0.033968298464789964, 0.03259469058814808]"
      ]
     },
     "execution_count": 29,
     "metadata": {},
     "output_type": "execute_result"
    }
   ],
   "source": [
    "Areas = [[[59.98179058129378, 2.037060072502754],[63.18271304356203, 2.1294542343052365]],\n",
    "[[58.381291409049226, 1.9911392100260337],[63.18271304356203, 2.1294542343052365],[59.18154437079939, 2.0140753032092644],[59.18154437079939, 2.0140753032092644]],\n",
    "[[79.18620659205573, 2.5551844803038914],[83.50692025087656, 2.6861549355950944],[64.30301420466873, 2.107965006349283],[59.98179058129378, 1.9796650709022352],\n",
    "[64.94318163083341, 2.1270430696405636]]] # [OSC1,OSC3,OSC5]\n",
    "avxi=[]\n",
    "for i in range(len(Areas)):\n",
    "    avxii=0\n",
    "    for j in range(len(Areas[i])):\n",
    "        avxii+=Areas[i][j][1]/Areas[i][j][0]\n",
    "    avxi.append(avxii/len(Areas[i]))\n",
    "avxi"
   ]
  },
  {
   "cell_type": "markdown",
   "metadata": {},
   "source": [
    "$u_j = j\\cdot \\xi,\\quad \\xi = \\frac{u_A}{A}$<p>\n",
    "$u_{\\overline{j},\\text{sys}}\\approx \\overline{j}\\cdot \\xi$"
   ]
  },
  {
   "cell_type": "code",
   "execution_count": 31,
   "metadata": {},
   "outputs": [
    {
     "data": {
      "text/plain": [
       "[<matplotlib.lines.Line2D at 0x1d0b0a6f8b0>]"
      ]
     },
     "execution_count": 31,
     "metadata": {},
     "output_type": "execute_result"
    },
    {
     "data": {
      "image/png": "[encoded data removed]",
      "text/plain": [
       "<Figure size 432x288 with 1 Axes>"
      ]
     },
     "metadata": {
      "needs_background": "light"
     },
     "output_type": "display_data"
    }
   ],
   "source": [
    "def jcurves (osc,cells,dupes)"
   ]
  },
  {
   "cell_type": "code",
   "execution_count": 35,
   "metadata": {},
   "outputs": [
    {
     "data": {
      "text/plain": [
       "[<matplotlib.lines.Line2D at 0x1d0b0bd9580>]"
      ]
     },
     "execution_count": 35,
     "metadata": {},
     "output_type": "execute_result"
    },
    {
     "data": {
      "image/png": "[encoded data removed]",
      "text/plain": [
       "<Figure size 432x288 with 1 Axes>"
      ]
     },
     "metadata": {
      "needs_background": "light"
     },
     "output_type": "display_data"
    }
   ],
   "source": [
    "plt.plot(measurement(4,0,0)[0],measurement(4,0,0)[1])"
   ]
  },
  {
   "cell_type": "markdown",
   "metadata": {},
   "source": [
    "## OSC 3"
   ]
  },
  {
   "cell_type": "code",
   "execution_count": null,
   "metadata": {},
   "outputs": [],
   "source": []
  }
 ],
 "metadata": {
  "kernelspec": {
   "display_name": "Python 3.9.0 64-bit",
   "language": "python",
   "name": "python3"
  },
  "language_info": {
   "codemirror_mode": {
    "name": "ipython",
    "version": 3
   },
   "file_extension": ".py",
   "mimetype": "text/x-python",
   "name": "python",
   "nbconvert_exporter": "python",
   "pygments_lexer": "ipython3",
   "version": "3.9.0"
  },
  "orig_nbformat": 4,
  "vscode": {
   "interpreter": {
    "hash": "0f824b7509710b150eeb153a16fba7876ab51daf7c037ecc0c7ff6eceb14043c"
   }
  }
 },
 "nbformat": 4,
 "nbformat_minor": 2
}
