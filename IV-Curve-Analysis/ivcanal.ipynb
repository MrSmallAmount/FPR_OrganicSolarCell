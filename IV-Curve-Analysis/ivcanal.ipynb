{
 "cells": [
  {
   "cell_type": "code",
   "execution_count": 65,
   "metadata": {},
   "outputs": [],
   "source": [
    "import numpy as np\n",
    "import matplotlib.pyplot as plt\n",
    "import matplotlib\n",
    "import os"
   ]
  },
  {
   "cell_type": "markdown",
   "metadata": {},
   "source": [
    "## Pathing"
   ]
  },
  {
   "cell_type": "code",
   "execution_count": 2,
   "metadata": {},
   "outputs": [
    {
     "name": "stdout",
     "output_type": "stream",
     "text": [
      "(2, 201)\n"
     ]
    }
   ],
   "source": [
    "maindatapath = \"../OSC-measuresments/\"\n",
    "\n",
    "oscpaths = [maindatapath + osc +\"/\" for osc in  os.listdir(maindatapath) if osc[-4:]!=\".jpg\"] # the paths to the folders of the samples\n",
    "\n",
    "cellpaths = lambda osc : [ oscpaths[osc] + cell + \"/\" for cell in os.listdir(oscpaths[osc]) ]\n",
    "\n",
    "measurementpaths = lambda osc, cell : [cellpaths(osc)[cell] + measurement for measurement in os.listdir(cellpaths(osc)[cell])]\n",
    "\n",
    "measurement = lambda osc,cell,mm : np.loadtxt(measurementpaths(osc,cell)[mm], skiprows=1).T\n",
    "\n",
    "print(measurement(0,0,0).shape)"
   ]
  },
  {
   "cell_type": "code",
   "execution_count": 24,
   "metadata": {},
   "outputs": [
    {
     "name": "stdout",
     "output_type": "stream",
     "text": [
      "0: ../OSC-measuresments/OSC1/\n",
      "1: ../OSC-measuresments/OSC2/\n",
      "2: ../OSC-measuresments/OSC3/\n",
      "3: ../OSC-measuresments/OSC4/\n",
      "4: ../OSC-measuresments/OSC5/\n",
      "5: ../OSC-measuresments/PatrickOSC/\n",
      "6: ../OSC-measuresments/ReraSC/\n"
     ]
    }
   ],
   "source": [
    "for i in range(len(oscpaths)):\n",
    "    print(str(i) + \": \"+oscpaths[i])"
   ]
  },
  {
   "cell_type": "markdown",
   "metadata": {},
   "source": [
    "## Cutting down Measurements to 4th quadrant"
   ]
  },
  {
   "cell_type": "code",
   "execution_count": 3,
   "metadata": {},
   "outputs": [
    {
     "data": {
      "text/plain": [
       "[<matplotlib.lines.Line2D at 0x1d0b0595be0>]"
      ]
     },
     "execution_count": 3,
     "metadata": {},
     "output_type": "execute_result"
    },
    {
     "data": {
      "image/png": "[encoded data removed]",
      "text/plain": [
       "<Figure size 432x288 with 1 Axes>"
      ]
     },
     "metadata": {
      "needs_background": "light"
     },
     "output_type": "display_data"
    }
   ],
   "source": [
    "#measurementrelevant = lambda osc, cell, mm : np.where(measurement(osc,cell,mm)*np.array([[1],[-1]])>0,measurement(osc,cell,mm),0)\n",
    "measurementrelevant = lambda osc, cell, mm : measurement(osc,cell,mm)[ : ,  np.where( np.all ( measurement(osc,cell,mm)*np.array([[1],[-1]])>0 , axis =(0)))[0] ] \n",
    "    # ^ slices the array down to all the pairs where the voltage is positive and the current is negative\n",
    "mmr1 = measurementrelevant(0,0,2)\n",
    "plt.plot(mmr1[0],mmr1[1])"
   ]
  },
  {
   "cell_type": "markdown",
   "metadata": {},
   "source": [
    "## Interpolation"
   ]
  },
  {
   "cell_type": "code",
   "execution_count": 64,
   "metadata": {},
   "outputs": [
    {
     "ename": "IndentationError",
     "evalue": "expected an indented block (<ipython-input-64-3bc0b95f9f6b>, line 49)",
     "output_type": "error",
     "traceback": [
      "\u001b[1;36m  File \u001b[1;32m\"<ipython-input-64-3bc0b95f9f6b>\"\u001b[1;36m, line \u001b[1;32m49\u001b[0m\n\u001b[1;33m    def jm(mms,xi):\u001b[0m\n\u001b[1;37m    ^\u001b[0m\n\u001b[1;31mIndentationError\u001b[0m\u001b[1;31m:\u001b[0m expected an indented block\n"
     ]
    }
   ],
   "source": [
    "def interpolate(mat, witherrors=False):\n",
    "    x1,x2 = mat[0]\n",
    "    y1,y2 = mat[1]\n",
    "    x0 = (y1*x2-y2*x1)/(y1-y2)\n",
    "    return x0\n",
    "\n",
    "def j0error(mat,jerr):\n",
    "    x1,x2 = mat[0]\n",
    "    y1,y2 = mat[1]\n",
    "    return np.sqrt(1/(x1-x2)**2*(x1**2*jerr[1]+x1**2*jerr[0]))\n",
    "\n",
    "def v0error(mat,jerr,v0):\n",
    "    x1,x2 = mat[0]\n",
    "    y1,y2 = mat[1]\n",
    "    return 1/(y1-y2)**2*( (x2-v0)**2*jer[0]**2 + (x1-v0)**2*jerr[1]**2 )\n",
    "\n",
    "def find_zeros(mm,jerr = False):\n",
    "    V = mm[0]\n",
    "    J = mm[1]\n",
    "    jscindeces = [np.where(V<0)[0][-1],np.where(V>0)[0][0]]\n",
    "    vocindeces = [np.where(J<0)[0][-1],np.where(J>0)[0][0]]\n",
    "    jsc = interpolate(np.array([[0,1],[1,0]])@mm[:,jscindeces]) # the matrix mult is to swap the voltage and current\n",
    "    voc = interpolate(mm[:,vocindeces])\n",
    "    if jerr:\n",
    "        jscerr = j0error(mm[:,jscindeces],jerr[jscindeces])\n",
    "        vocerr = v0error(mm[:,vocindeces],jerr[vocindeces],voc)\n",
    "    else:\n",
    "        jscerr = 0\n",
    "        vocerr = 0\n",
    "    return [jsc,jscerr], [voc,vocerr], jscindeces, vocindeces\n",
    "\n",
    "def power_curve(mmr): \n",
    "    V,j = mmr\n",
    "    P = V*np.abs(j)\n",
    "    return P\n",
    "\n",
    "def max_Power(mmr,jerr=False):\n",
    "    Pcurve = power_curve(mmr)\n",
    "    Pmax = np.max(Pcurve)\n",
    "    index = np.where(Pcurve == Pmax)[0][0]\n",
    "    if jerr:\n",
    "        Pmaxerr = mmr[0][index]*jerr[index]\n",
    "    else:\n",
    "        Pmaxerr = 0\n",
    "    return [Pmax,Pmaxerr],Pcurve,index\n",
    "\n",
    "def FF(Pmax,voc,jsc):\n",
    "    FFactor = Pmax/(voc[0]*jsc[0])\n",
    "    FFerr = np.sqrt(FF**2*((voc[1]/voc[0])**2 + (jsc[1]/jsc[0])**2 + (Pmax[1]/Pmax[0])**2))\n",
    "    return [FFactor,FFerr]\n",
    "\n",
    "def jm(mms,xi):\n",
    "    js = mms[:,1]\n",
    "    N = js.shape[0]\n",
    "    jmean = np.mean(js,axis=0)\n",
    "    std = np.std(js,axis = 0,ddof=1)\n",
    "    jerr = np.sqrt((std/N)**2+(jmean*xi)**2)\n",
    "    return np.array([mms[0,0],jmean]),jerr\n",
    "\n",
    "measurement1 = measurement(0,0,1)\n",
    "\n",
    "find_zeros(measurement1)"
   ]
  },
  {
   "cell_type": "code",
   "execution_count": 55,
   "metadata": {},
   "outputs": [
    {
     "data": {
      "text/plain": [
       "(array([[ 0. ,  1. ,  2. ,  3. ,  4. ,  5. ,  6. ,  7. ,  8. ,  9. ],\n",
       "        [10.5, 11.5, 12.5, 13.5, 14.5, 15.5, 16.5, 17.5, 18.5, 19.5]]),\n",
       " array([52.50476169, 57.50434766, 62.50399987, 67.5037036 , 72.50344819,\n",
       "        77.50322574, 82.50303025, 87.5028571 , 92.50270266, 97.50256407]))"
      ]
     },
     "execution_count": 55,
     "metadata": {},
     "output_type": "execute_result"
    }
   ],
   "source": [
    "test = np.array([[range(10),range(10,20)],[range(10),range(11,21)]])\n",
    "jm(test,5)"
   ]
  },
  {
   "cell_type": "code",
   "execution_count": 63,
   "metadata": {},
   "outputs": [
    {
     "data": {
      "text/plain": [
       "[<matplotlib.lines.Line2D at 0x1d0b1eb04f0>]"
      ]
     },
     "execution_count": 63,
     "metadata": {},
     "output_type": "execute_result"
    },
    {
     "data": {
      "image/png": "[encoded data removed]",
      "text/plain": [
       "<Figure size 432x288 with 1 Axes>"
      ]
     },
     "metadata": {
      "needs_background": "light"
     },
     "output_type": "display_data"
    }
   ],
   "source": [
    "mr1 = measurementrelevant(0,0,1)\n",
    "power1 = power_curve(mr1)\n",
    "plt.plot(mr1[0],power1)\n",
    "plt.plot([0,mr1[0][-1]],2*[max_Power(mr1)[0][0]])"
   ]
  },
  {
   "cell_type": "markdown",
   "metadata": {},
   "source": [
    "### Average Ratio between uncertainty in Area and Area"
   ]
  },
  {
   "cell_type": "code",
   "execution_count": 29,
   "metadata": {},
   "outputs": [
    {
     "data": {
      "text/plain": [
       "[0.033832211493689125, 0.033968298464789964, 0.03259469058814808]"
      ]
     },
     "execution_count": 29,
     "metadata": {},
     "output_type": "execute_result"
    }
   ],
   "source": [
    "Areas = [[[59.98179058129378, 2.037060072502754],[63.18271304356203, 2.1294542343052365]],\n",
    "[[58.381291409049226, 1.9911392100260337],[63.18271304356203, 2.1294542343052365],[59.18154437079939, 2.0140753032092644],[59.18154437079939, 2.0140753032092644]],\n",
    "[[79.18620659205573, 2.5551844803038914],[83.50692025087656, 2.6861549355950944],[64.30301420466873, 2.107965006349283],[59.98179058129378, 1.9796650709022352],\n",
    "[64.94318163083341, 2.1270430696405636]]] # [OSC1,OSC3,OSC5]\n",
    "avxi=[]\n",
    "for i in range(len(Areas)):\n",
    "    avxii=0\n",
    "    for j in range(len(Areas[i])):\n",
    "        avxii+=Areas[i][j][1]/Areas[i][j][0]\n",
    "    avxi.append(avxii/len(Areas[i]))\n",
    "avxi"
   ]
  },
  {
   "cell_type": "markdown",
   "metadata": {},
   "source": [
    "$u_j = j\\cdot \\xi,\\quad \\xi = \\frac{u_A}{A}$<p>\n",
    "$u_{\\overline{j},\\text{sys}}\\approx \\overline{j}\\cdot \\xi$"
   ]
  },
  {
   "cell_type": "code",
   "execution_count": 48,
   "metadata": {},
   "outputs": [
    {
     "data": {
      "text/plain": [
       "array([[22,  2],\n",
       "       [22,  2]])"
      ]
     },
     "execution_count": 48,
     "metadata": {},
     "output_type": "execute_result"
    }
   ],
   "source": [
    "np.array([[[1,1],[22,2]],[[1,1],[22,2]]])[:,1]"
   ]
  },
  {
   "cell_type": "markdown",
   "metadata": {},
   "source": [
    "### OSC 1"
   ]
  },
  {
   "cell_type": "code",
   "execution_count": 73,
   "metadata": {},
   "outputs": [],
   "source": [
    "osc1cell1mms = len(measurementpaths(0,0))\n",
    "OSC1CELL1 = np.empty((osc1cell1mms,*measurement(0,0,0).shape))\n",
    "\n",
    "for i in range(len(measurementpaths(0,0))):\n",
    "    OSC1CELL1[i] = measurement(0,0,i)\n",
    "\n"
   ]
  },
  {
   "cell_type": "markdown",
   "metadata": {},
   "source": [
    "## Plotting"
   ]
  },
  {
   "cell_type": "code",
   "execution_count": 66,
   "metadata": {},
   "outputs": [],
   "source": [
    "plt.rcParams.update({\n",
    "    \"figure.autolayout\": True,\n",
    "    \"text.usetex\": True,\n",
    "    \"font.family\": \"serif\"})\n",
    "\n",
    "matplotlib.rc(\"xtick\", labelsize=14)\n",
    "matplotlib.rc(\"ytick\", labelsize=14)\n",
    "    "
   ]
  },
  {
   "cell_type": "code",
   "execution_count": 68,
   "metadata": {},
   "outputs": [
    {
     "data": {
      "text/plain": [
       "1"
      ]
     },
     "execution_count": 68,
     "metadata": {},
     "output_type": "execute_result"
    }
   ],
   "source": []
  },
  {
   "cell_type": "code",
   "execution_count": null,
   "metadata": {},
   "outputs": [],
   "source": []
  }
 ],
 "metadata": {
  "kernelspec": {
   "display_name": "Python 3.9.0 64-bit",
   "language": "python",
   "name": "python3"
  },
  "language_info": {
   "codemirror_mode": {
    "name": "ipython",
    "version": 3
   },
   "file_extension": ".py",
   "mimetype": "text/x-python",
   "name": "python",
   "nbconvert_exporter": "python",
   "pygments_lexer": "ipython3",
   "version": "3.9.0"
  },
  "orig_nbformat": 4,
  "vscode": {
   "interpreter": {
    "hash": "0f824b7509710b150eeb153a16fba7876ab51daf7c037ecc0c7ff6eceb14043c"
   }
  }
 },
 "nbformat": 4,
 "nbformat_minor": 2
}
