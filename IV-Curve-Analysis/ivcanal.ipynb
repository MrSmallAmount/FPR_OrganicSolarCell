{
 "cells": [
  {
   "cell_type": "code",
   "execution_count": 1,
   "metadata": {},
   "outputs": [],
   "source": [
    "import numpy as np\n",
    "import matplotlib.pyplot as plt\n",
    "import os"
   ]
  },
  {
   "cell_type": "code",
   "execution_count": 41,
   "metadata": {},
   "outputs": [
    {
     "name": "stdout",
     "output_type": "stream",
     "text": [
      "(2, 201)\n"
     ]
    }
   ],
   "source": [
    "maindatapath = \"../OSC-measuresments/\"\n",
    "\n",
    "oscpaths = [maindatapath + osc +\"/\" for osc in  os.listdir(maindatapath) if osc[-4:]!=\".jpg\"] # the paths to the folders of the samples\n",
    "\n",
    "cellpaths = lambda osc : [ oscpaths[osc] + cell + \"/\" for cell in os.listdir(oscpaths[osc]) ]\n",
    "\n",
    "measurementpaths = lambda osc, cell : [cellpaths(osc)[cell] + measurement for measurement in os.listdir(cellpaths(osc)[cell])]\n",
    "\n",
    "measurement = lambda osc,cell,mm : np.loadtxt(measurementpaths(osc,cell)[mm], skiprows=1).T\n",
    "\n",
    "print(measurement(0,0,0).shape)"
   ]
  },
  {
   "cell_type": "code",
   "execution_count": 62,
   "metadata": {},
   "outputs": [
    {
     "data": {
      "text/plain": [
       "[<matplotlib.lines.Line2D at 0x24ad463ff40>]"
      ]
     },
     "execution_count": 62,
     "metadata": {},
     "output_type": "execute_result"
    },
    {
     "data": {
      "image/png": "[encoded data removed]",
      "text/plain": [
       "<Figure size 432x288 with 1 Axes>"
      ]
     },
     "metadata": {
      "needs_background": "light"
     },
     "output_type": "display_data"
    }
   ],
   "source": [
    "#measurementrelevant = lambda osc, cell, mm : np.where(measurement(osc,cell,mm)*np.array([[1],[-1]])>0,measurement(osc,cell,mm),0)\n",
    "measurementrelevant = lambda osc, cell, mm : measurement(osc,cell,mm)[ : ,  np.where( np.all ( measurement(osc,cell,mm)*np.array([[1],[-1]])>0 , axis =(0)))[0] ] \n",
    "    # ^ slices the array down to all the pairs where the voltage is positive and the current is negative\n",
    "mmr1 = measurementrelevant(0,0,2)\n",
    "plt.plot(mmr1[0],mmr1[1])"
   ]
  },
  {
   "cell_type": "code",
   "execution_count": 55,
   "metadata": {},
   "outputs": [
    {
     "name": "stdout",
     "output_type": "stream",
     "text": [
      "[[ 4.999995e-03  9.999990e-03  1.499999e-02  2.000000e-02  2.499999e-02\n",
      "   2.999999e-02  3.500000e-02  3.999999e-02  4.499999e-02  5.000000e-02\n",
      "   5.499999e-02  5.999999e-02  6.499998e-02  6.999998e-02  7.500000e-02\n",
      "   8.000000e-02  8.499999e-02  8.999999e-02  9.499998e-02  9.999998e-02\n",
      "   1.050000e-01  1.100000e-01  1.150000e-01  1.200000e-01  1.250000e-01\n",
      "   1.300000e-01  1.350000e-01  1.400000e-01  1.450000e-01  1.500000e-01\n",
      "   1.550000e-01  1.600000e-01  1.650000e-01  1.700000e-01  1.750000e-01\n",
      "   1.800000e-01  1.850000e-01  1.900000e-01  1.950000e-01  2.000000e-01\n",
      "   2.050000e-01  2.100000e-01  2.150000e-01  2.200000e-01  2.250000e-01\n",
      "   2.300000e-01  2.350000e-01  2.400000e-01  2.450000e-01  2.500000e-01\n",
      "   2.550000e-01  2.600000e-01  2.650000e-01  2.700000e-01  2.750000e-01\n",
      "   2.800000e-01  2.850000e-01  2.900000e-01  2.950000e-01  3.000000e-01\n",
      "   3.050000e-01  3.100000e-01  3.150000e-01  3.200000e-01  3.250000e-01\n",
      "   3.300000e-01  3.350000e-01  3.400000e-01  3.450000e-01  3.500000e-01\n",
      "   3.550000e-01  3.600000e-01  3.650000e-01  3.700000e-01  3.750000e-01\n",
      "   3.800000e-01  3.850000e-01  3.900000e-01  3.950000e-01  4.000000e-01\n",
      "   4.050000e-01  4.100000e-01  4.150000e-01  4.200000e-01]\n",
      " [-8.853210e-05 -8.805520e-05 -8.754710e-05 -8.686710e-05 -8.630560e-05\n",
      "  -8.572770e-05 -8.526080e-05 -8.469580e-05 -8.411710e-05 -8.350220e-05\n",
      "  -8.295410e-05 -8.221900e-05 -8.168230e-05 -8.089160e-05 -8.010250e-05\n",
      "  -7.965720e-05 -7.930890e-05 -7.841350e-05 -7.784620e-05 -7.729680e-05\n",
      "  -7.661780e-05 -7.575140e-05 -7.508970e-05 -7.443280e-05 -7.407080e-05\n",
      "  -7.302880e-05 -7.235890e-05 -7.189990e-05 -7.095730e-05 -7.012920e-05\n",
      "  -6.970890e-05 -6.869140e-05 -6.772670e-05 -6.692420e-05 -6.619770e-05\n",
      "  -6.598280e-05 -6.512660e-05 -6.399680e-05 -6.340460e-05 -6.230780e-05\n",
      "  -6.142400e-05 -6.058620e-05 -5.977060e-05 -5.897730e-05 -5.804060e-05\n",
      "  -5.701800e-05 -5.595800e-05 -5.521970e-05 -5.379660e-05 -5.239320e-05\n",
      "  -5.163560e-05 -5.083100e-05 -4.976340e-05 -4.877290e-05 -4.741040e-05\n",
      "  -4.629980e-05 -4.474100e-05 -4.348100e-05 -4.219050e-05 -4.119000e-05\n",
      "  -4.017700e-05 -3.886350e-05 -3.721610e-05 -3.557990e-05 -3.438510e-05\n",
      "  -3.294860e-05 -3.131770e-05 -2.906930e-05 -2.880920e-05 -2.708730e-05\n",
      "  -2.548630e-05 -2.363940e-05 -2.240190e-05 -2.019740e-05 -1.885600e-05\n",
      "  -1.764380e-05 -1.522990e-05 -1.399780e-05 -1.275140e-05 -1.139620e-05\n",
      "  -1.067450e-05 -8.897520e-06 -6.722180e-06 -2.866420e-06]]\n"
     ]
    },
    {
     "data": {
      "text/plain": [
       "(-8.931019768108607e-05, 0.42458230262617314, [40, 41], [124, 125])"
      ]
     },
     "execution_count": 55,
     "metadata": {},
     "output_type": "execute_result"
    }
   ],
   "source": [
    "def interpolate(mat, witherrors=False):\n",
    "    x1,x2 = mat[0]\n",
    "    y1,y2 = mat[1]\n",
    "    x0 = (y1*x2-y2*x1)/(y1-y2)\n",
    "    return x0\n",
    "\n",
    "\n",
    "def find_zeros(mm):\n",
    "    V = mm[0]\n",
    "    I = mm[1]\n",
    "    iscindeces = [np.where(V<0)[0][-1],np.where(V>0)[0][0]]\n",
    "    vocindeces = [np.where(I<0)[0][-1],np.where(I>0)[0][0]]\n",
    "    isc = interpolate(np.array([[0,1],[1,0]])@mm[:,iscindeces]) # the matrix mult is to swap the voltage and current\n",
    "    voc = interpolate(mm[:,vocindeces])\n",
    "    return isc, voc, iscindeces, vocindeces\n",
    "\n",
    "def power_curve(mmr):\n",
    "    V,I = mmr\n",
    "    P = V*np.abs(I)\n",
    "    return P\n",
    "\n",
    "measurement1 = measurement(0,0,1)\n",
    "\n",
    "print(measurement1[:,np.where(np.all(measurement1*np.array([[1],[-1]])>0,axis=(0)))[0]])\n",
    "\n",
    "#measurement1[:,find_zeros(measurement1)[1]]\n",
    "\n",
    "find_zeros(measurement1)"
   ]
  },
  {
   "cell_type": "code",
   "execution_count": 37,
   "metadata": {},
   "outputs": [
    {
     "data": {
      "text/plain": [
       "[<matplotlib.lines.Line2D at 0x24ad41d52e0>]"
      ]
     },
     "execution_count": 37,
     "metadata": {},
     "output_type": "execute_result"
    },
    {
     "data": {
      "image/png": "[encoded data removed]",
      "text/plain": [
       "<Figure size 432x288 with 1 Axes>"
      ]
     },
     "metadata": {
      "needs_background": "light"
     },
     "output_type": "display_data"
    }
   ],
   "source": [
    "mr1 = measurementrelevant(0,0,1)\n",
    "power1 = power_curve(mr1)\n",
    "plt.plot(mr1[0],power1)"
   ]
  },
  {
   "cell_type": "code",
   "execution_count": 52,
   "metadata": {},
   "outputs": [
    {
     "data": {
      "text/plain": [
       "array([[3, 4],\n",
       "       [7, 8]])"
      ]
     },
     "execution_count": 52,
     "metadata": {},
     "output_type": "execute_result"
    }
   ],
   "source": [
    "a = np.array([[1,2,3,4],[5,6,7,8]])\n",
    "a[:,[2,3]]"
   ]
  },
  {
   "cell_type": "code",
   "execution_count": null,
   "metadata": {},
   "outputs": [],
   "source": []
  }
 ],
 "metadata": {
  "kernelspec": {
   "display_name": "Python 3.9.0 64-bit",
   "language": "python",
   "name": "python3"
  },
  "language_info": {
   "codemirror_mode": {
    "name": "ipython",
    "version": 3
   },
   "file_extension": ".py",
   "mimetype": "text/x-python",
   "name": "python",
   "nbconvert_exporter": "python",
   "pygments_lexer": "ipython3",
   "version": "3.9.0"
  },
  "orig_nbformat": 4,
  "vscode": {
   "interpreter": {
    "hash": "0f824b7509710b150eeb153a16fba7876ab51daf7c037ecc0c7ff6eceb14043c"
   }
  }
 },
 "nbformat": 4,
 "nbformat_minor": 2
}
